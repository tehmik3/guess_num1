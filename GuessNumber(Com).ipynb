{
  "nbformat": 4,
  "nbformat_minor": 0,
  "metadata": {
    "colab": {
      "private_outputs": true,
      "provenance": [],
      "authorship_tag": "ABX9TyMcgD9ZFYlRnCTz95atwX1g",
      "include_colab_link": true
    },
    "kernelspec": {
      "name": "python3",
      "display_name": "Python 3"
    },
    "language_info": {
      "name": "python"
    }
  },
  "cells": [
    {
      "cell_type": "markdown",
      "metadata": {
        "id": "view-in-github",
        "colab_type": "text"
      },
      "source": [
        "<a href=\"https://colab.research.google.com/github/tehmik3/guess_num1/blob/main/GuessNumber(Com).ipynb\" target=\"_parent\"><img src=\"https://colab.research.google.com/assets/colab-badge.svg\" alt=\"Open In Colab\"/></a>"
      ]
    },
    {
      "cell_type": "markdown",
      "source": [
        "# Guess The Number(Compyter)**bold text**"
      ],
      "metadata": {
        "id": "8NB-o7Tss5mp"
      }
    },
    {
      "cell_type": "code",
      "execution_count": null,
      "metadata": {
        "id": "vVetNi6ws0d2"
      },
      "outputs": [],
      "source": [
        "import random\n",
        "\n",
        "def guess(y):\n",
        "  random_number = random.randint(1,y)\n",
        "  guess = 0\n",
        "  while guess != random_number:\n",
        "    guess = int(input(f\"Guess a number between 1 and {y}: \"))\n",
        "    if guess < random_number:\n",
        "      print(\"Sorry guess again. Too low\")\n",
        "    elif guess > random_number:\n",
        "     print(\"Sorry guess again. Too high\")\n",
        "    else:\n",
        "      print(\"yay you got it.\")\n",
        "      print(guess)\n",
        "\n",
        "guess(10)"
      ]
    }
  ]
}